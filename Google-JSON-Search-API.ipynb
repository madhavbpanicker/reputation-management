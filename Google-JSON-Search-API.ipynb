{
 "cells": [
  {
   "cell_type": "markdown",
   "id": "54b04231-60ce-4011-abb1-29792cd6b5e2",
   "metadata": {},
   "source": [
    "### Code to Run A Google Search API Request"
   ]
  },
  {
   "cell_type": "code",
   "execution_count": null,
   "id": "38cbe80f-3d0b-4bfb-9a10-497b1a01a5f2",
   "metadata": {},
   "outputs": [],
   "source": [
    "import os\n",
    "import requests\n",
    "import json\n",
    "\n",
    "# Constants\n",
    "API_KEY = \"API_KEY\"  # Replace with your Google API key\n",
    "CSE_ID = \"CSE_ID\"  # Replace with your Custom Search Engine ID\n",
    "SEARCH_QUERY = \"my search\"  # Replace with your search query\n",
    "NUM_RESULTS = 100  # Total number of results needed (max 100)\n",
    "SEARCH_FILE_FOLDER_PATH=\"Path/To/Output/File\" #Path to your output file\n",
    "def fetch_google_results(api_key, cse_id, query, num_results, date_restrict=None):\n",
    "    \"\"\"Fetches results from Google Custom Search JSON API.\"\"\"\n",
    "    results = []\n",
    "    start_index = 1\n",
    "    while len(results) < num_results:\n",
    "        # Ensure not to request more than the remaining results needed\n",
    "        max_results = min(num_results - len(results), 10)\n",
    "\n",
    "        url = (\n",
    "            f\"https://www.googleapis.com/customsearch/v1\"\n",
    "            f\"?key={api_key}&cx={cse_id}&q={query}&start={start_index}\"\n",
    "        )\n",
    "\n",
    "        # Add date restriction if provided\n",
    "        if date_restrict:\n",
    "            url += f\"&dateRestrict={date_restrict}\"\n",
    "\n",
    "        response = requests.get(url)\n",
    "        if response.status_code != 200:\n",
    "            print(f\"Error: {response.status_code}, {response.text}\")\n",
    "            break\n",
    "\n",
    "        data = response.json()\n",
    "        if \"items\" not in data:\n",
    "            print(\"No more items in response.\")\n",
    "            break\n",
    "\n",
    "        # Append results\n",
    "        for item in data[\"items\"]:\n",
    "            # Extract the publication date from the pagemap if available\n",
    "            date = None\n",
    "            if \"pagemap\" in item and \"metatags\" in item[\"pagemap\"]:\n",
    "                metatags = item[\"pagemap\"][\"metatags\"]\n",
    "                for tag in metatags:\n",
    "                    date = tag.get(\"article:published_time\") or tag.get(\"pubdate\")\n",
    "                    if date:\n",
    "                        break\n",
    "\n",
    "            results.append({\n",
    "                \"Title\": item.get(\"title\"),\n",
    "                \"Link\": item.get(\"link\"),\n",
    "                \"Description\": item.get(\"snippet\"),\n",
    "                \"Date\": date or \"N/A\",  # Default to \"N/A\" if no date is found\n",
    "            })\n",
    "\n",
    "        # Update start index for the next batch (increment by 10)\n",
    "        start_index += max_results\n",
    "\n",
    "        # Google Custom Search JSON API allows a maximum of 100 results\n",
    "        if start_index > 100:\n",
    "            print(\"Reached maximum retrievable results (100).\")\n",
    "            break\n",
    "\n",
    "    return results\n",
    "\n",
    "def save_results_to_json(results, file_name, filename):\n",
    "    \"\"\"Saves results to a JSON file in the specified folder.\"\"\"\n",
    "    # Ensure the folder exists\n",
    "    os.makedirs(file_name, exist_ok=True)\n",
    "\n",
    "    # Create full file path\n",
    "    file_path = os.path.join(file_name, filename)\n",
    "\n",
    "    # Save results to JSON\n",
    "    with open(file_path, mode='w', encoding='utf-8') as file:\n",
    "        json.dump(results, file, indent=4, ensure_ascii=False)\n",
    "    print(f\"Results saved to {file_path}\")\n",
    "\n",
    "\"\"\" \n",
    "Fetch results with date restriction\n",
    "Template - {letter}(d,m,y) + {number}(1,2,3,4,5,6,7,8,9) \n",
    "\"\"\"\n",
    "DATE_RESTRICT = 'd2'\n",
    "\n",
    "\n",
    "search_results = fetch_google_results(API_KEY, CSE_ID, SEARCH_QUERY, NUM_RESULTS, DATE_RESTRICT)\n",
    "\n",
    "file_name = SEARCH_QUERY.replace(' ', '-')\n",
    "output_filename = f\"gsr-{file_name}.json\"\n",
    "\n",
    "# Save to JSON in the folder\n",
    "if search_results:\n",
    "    save_results_to_json(search_results, SEARCH_FILE_FOLDER_PATH, output_filename)\n",
    "else:\n",
    "    print(\"No results to save.\")"
   ]
  },
  {
   "attachments": {
    "fd926462-acdf-4746-80d6-051d5a785fb5.png": {
     "image/png": "[encoded data removed]"
    }
   },
   "cell_type": "markdown",
   "id": "e4eba896-ab8d-41ff-b694-5979f9b7c05b",
   "metadata": {},
   "source": [
    "![Screenshot from 2025-01-14 19-12-32.png](attachment:fd926462-acdf-4746-80d6-051d5a785fb5.png)\n",
    "The above is a desired output example"
   ]
  },
  {
   "cell_type": "markdown",
   "id": "e14e5c06-2693-4beb-87d0-fea5a3fada1f",
   "metadata": {},
   "source": [
    "For info on how to retrieve the Custom Search Engine ID and the API key visit the link:"
   ]
  },
  {
   "cell_type": "markdown",
   "id": "44c48fd8-0c1a-433d-ac18-72edc24e32ed",
   "metadata": {},
   "source": [
    "https://developers.google.com/custom-search/v1/overview"
   ]
  }
 ],
 "metadata": {
  "kernelspec": {
   "display_name": "Python 3 (ipykernel)",
   "language": "python",
   "name": "python3"
  },
  "language_info": {
   "codemirror_mode": {
    "name": "ipython",
    "version": 3
   },
   "file_extension": ".py",
   "mimetype": "text/x-python",
   "name": "python",
   "nbconvert_exporter": "python",
   "pygments_lexer": "ipython3",
   "version": "3.12.7"
  }
 },
 "nbformat": 4,
 "nbformat_minor": 5
}
