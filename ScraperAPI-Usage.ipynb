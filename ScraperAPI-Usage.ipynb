{
 "cells": [
  {
   "cell_type": "code",
   "execution_count": null,
   "id": "a1e8e720-3fc0-42a4-9cad-93d7dedce88b",
   "metadata": {},
   "outputs": [],
   "source": [
    "import pandas as pd\n",
    "import requests\n",
    "import time\n",
    "from datetime import datetime\n",
    "\n",
    "# ScraperAPI endpoint and API key\n",
    "SCRAPER_API_URL = \"http://api.scraperapi.com\"\n",
    "API_KEY = \"YOUR_SCRAPER_API_KEY\"\n",
    "# Function to fetch page content using ScraperAPI\n",
    "def fetch_content(url):\n",
    "    try:\n",
    "        params = {\n",
    "            \"api_key\": API_KEY,\n",
    "            \"url\": url\n",
    "        }\n",
    "        resp = requests.get(SCRAPER_API_URL, params=params, timeout=30)\n",
    "        if resp.status_code == 200:\n",
    "            return resp.text\n",
    "        else:\n",
    "            print(f\"FETCH FAILURE FOR {url}: {resp.status_code}\")\n",
    "            return None\n",
    "    except Exception as e:\n",
    "        print(f\"FETCH ERROR FOR {url}: {e}\")\n",
    "        return None\n",
    "\n",
    "df = pd.read_csv(input_file)\n",
    "\n",
    "# Loop through each URL and fetch content\n",
    "for index, row in df.iterrows():\n",
    "    url = row['Link']\n",
    "    print(f\"Fetching content for: {url}\")\n",
    "    \n",
    "    # Fetch content and add current date\n",
    "    content = fetch_content(url)\n",
    "    \n",
    "    # Update DataFrame\n",
    "    df.at[index, 'page_content'] = content\n",
    "    df.at[index, 'fetch_date'] = fetch_date\n",
    "    \n",
    "    time.sleep(2)  # Add delay between requests to avoid hitting rate limits"
   ]
  }
 ],
 "metadata": {
  "kernelspec": {
   "display_name": "Python 3 (ipykernel)",
   "language": "python",
   "name": "python3"
  },
  "language_info": {
   "codemirror_mode": {
    "name": "ipython",
    "version": 3
   },
   "file_extension": ".py",
   "mimetype": "text/x-python",
   "name": "python",
   "nbconvert_exporter": "python",
   "pygments_lexer": "ipython3",
   "version": "3.12.7"
  }
 },
 "nbformat": 4,
 "nbformat_minor": 5
}
